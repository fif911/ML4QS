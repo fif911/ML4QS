{
 "cells": [
  {
   "cell_type": "code",
   "execution_count": 10,
   "outputs": [],
   "source": [
    "import numpy as np\n",
    "import pandas as pd\n",
    "import seaborn as sns\n",
    "from fitter import Fitter, get_common_distributions, get_distributions"
   ],
   "metadata": {
    "collapsed": false
   }
  },
  {
   "cell_type": "code",
   "execution_count": 11,
   "outputs": [],
   "source": [
    "import pandas as pd\n",
    "\n",
    "dataset = pd.read_csv(\"../phyphox-outputs/chapter2_result_250_labeled_aligned.csv\", skipinitialspace=True)"
   ],
   "metadata": {
    "collapsed": false
   }
  },
  {
   "cell_type": "code",
   "execution_count": 12,
   "outputs": [
    {
     "name": "stdout",
     "output_type": "stream",
     "text": [
      "<class 'pandas.core.frame.DataFrame'>\n",
      "RangeIndex: 29948 entries, 0 to 29947\n",
      "Data columns (total 21 columns):\n",
      " #   Column                      Non-Null Count  Dtype  \n",
      "---  ------                      --------------  -----  \n",
      " 0   Unnamed: 0                  29948 non-null  object \n",
      " 1   acc_x                       29948 non-null  float64\n",
      " 2   acc_y                       29948 non-null  float64\n",
      " 3   acc_z                       29948 non-null  float64\n",
      " 4   label                       29948 non-null  object \n",
      " 5   gyr_x                       29945 non-null  float64\n",
      " 6   gyr_y                       29945 non-null  float64\n",
      " 7   gyr_z                       29945 non-null  float64\n",
      " 8   lin_acc_x                   29944 non-null  float64\n",
      " 9   lin_acc_y                   29944 non-null  float64\n",
      " 10  lin_acc_z                   29944 non-null  float64\n",
      " 11  loc_Latitude (°)            6298 non-null   float64\n",
      " 12  loc_Longitude (°)           6298 non-null   float64\n",
      " 13  loc_height                  6298 non-null   float64\n",
      " 14  loc_speed                   6298 non-null   float64\n",
      " 15  loc_Direction (°)           6298 non-null   float64\n",
      " 16  loc_horizontal_accuracy     6298 non-null   float64\n",
      " 17  loc_vertical_accuracy       6298 non-null   float64\n",
      " 18  mang_Magnetic field x (µT)  29941 non-null  float64\n",
      " 19  mang_Magnetic field y (µT)  29941 non-null  float64\n",
      " 20  mang_Magnetic field z (µT)  29941 non-null  float64\n",
      "dtypes: float64(19), object(2)\n",
      "memory usage: 4.8+ MB\n"
     ]
    }
   ],
   "source": [
    "dataset.info()"
   ],
   "metadata": {
    "collapsed": false
   }
  },
  {
   "cell_type": "code",
   "execution_count": null,
   "outputs": [
    {
     "name": "stdout",
     "output_type": "stream",
     "text": [
      "Error in callback <function flush_figures at 0x16c086670> (for post_execute):\n"
     ]
    },
    {
     "name": "stderr",
     "output_type": "stream",
     "text": [
      "\n",
      "KeyboardInterrupt\n",
      "\n"
     ]
    }
   ],
   "source": [
    "sns.set_style('white')\n",
    "sns.set_context(\"paper\", font_scale = 2)\n",
    "sns.displot(data=dataset, x=\"acc_x\", kind=\"hist\", bins = 100, aspect = 1.5)"
   ],
   "metadata": {
    "collapsed": false
   }
  },
  {
   "cell_type": "code",
   "execution_count": null,
   "outputs": [],
   "source": [],
   "metadata": {
    "collapsed": false
   }
  }
 ],
 "metadata": {
  "kernelspec": {
   "display_name": "Python 3",
   "language": "python",
   "name": "python3"
  },
  "language_info": {
   "codemirror_mode": {
    "name": "ipython",
    "version": 2
   },
   "file_extension": ".py",
   "mimetype": "text/x-python",
   "name": "python",
   "nbconvert_exporter": "python",
   "pygments_lexer": "ipython2",
   "version": "2.7.6"
  }
 },
 "nbformat": 4,
 "nbformat_minor": 0
}

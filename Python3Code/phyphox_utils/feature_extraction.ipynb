{
 "cells": [
  {
   "cell_type": "code",
   "execution_count": 5,
   "metadata": {},
   "outputs": [
    {
     "name": "stdout",
     "output_type": "stream",
     "text": [
      "                             time     acc_x     acc_y     acc_z  lin_acc_x  \\\n",
      "0             2023-06-07 15:08:16  1.987140  6.211775  7.555291   0.076746   \n",
      "1      2023-06-07 15:08:16.250000  1.943590  5.924838  7.362749   0.097783   \n",
      "2      2023-06-07 15:08:16.500000  1.929640  6.066591  7.335298  -0.037987   \n",
      "3      2023-06-07 15:08:16.750000  2.010705  6.332934  7.618437  -0.210611   \n",
      "4             2023-06-07 15:08:17  2.064099  6.246635  7.609214  -0.317527   \n",
      "...                           ...       ...       ...       ...        ...   \n",
      "29943  2023-06-07 17:13:01.750000  7.453517  0.858765  7.251574   1.448706   \n",
      "29944         2023-06-07 17:13:02  7.093699  0.805663  7.097103   1.117107   \n",
      "29945  2023-06-07 17:13:02.250000  7.218919  0.825556  7.333401   0.482663   \n",
      "29946  2023-06-07 17:13:02.500000  7.420105  0.838531  7.524803  -0.383474   \n",
      "29947  2023-06-07 17:13:02.750000  7.174921  0.815014  7.246644  -1.144696   \n",
      "\n",
      "       lin_acc_y  lin_acc_z  loc_speed       label  label_cycling  \\\n",
      "0      -0.259032   0.053422        0.0  hammocking            0.0   \n",
      "1      -0.417007   0.101809        NaN  hammocking            0.0   \n",
      "2       0.063837  -0.084983        NaN  hammocking            0.0   \n",
      "3       0.853067  -0.207848        NaN  hammocking            0.0   \n",
      "4       1.036801  -0.474122        NaN  hammocking            0.0   \n",
      "...          ...        ...        ...         ...            ...   \n",
      "29943   0.083193  -1.020653        NaN  hammocking            0.0   \n",
      "29944   0.035923  -1.093574        NaN  hammocking            0.0   \n",
      "29945   0.018517  -0.206408        0.0  hammocking            0.0   \n",
      "29946  -0.010336   0.890757        NaN  hammocking            0.0   \n",
      "29947  -0.046757   1.229599        NaN  hammocking            0.0   \n",
      "\n",
      "       label_hammocking  label_running  label_sitting  label_walking  \n",
      "0                   1.0            0.0            0.0            0.0  \n",
      "1                   1.0            0.0            0.0            0.0  \n",
      "2                   1.0            0.0            0.0            0.0  \n",
      "3                   1.0            0.0            0.0            0.0  \n",
      "4                   1.0            0.0            0.0            0.0  \n",
      "...                 ...            ...            ...            ...  \n",
      "29943               1.0            0.0            0.0            0.0  \n",
      "29944               1.0            0.0            0.0            0.0  \n",
      "29945               1.0            0.0            0.0            0.0  \n",
      "29946               1.0            0.0            0.0            0.0  \n",
      "29947               1.0            0.0            0.0            0.0  \n",
      "\n",
      "[29948 rows x 14 columns]\n"
     ]
    }
   ],
   "source": [
    "import pandas as pd\n",
    "\n",
    "dataset = pd.read_csv(\"../phyphox-outputs/chapter2_result_250_labeled_aligned_min_extended_onehot_outlier.csv\", skipinitialspace=True)\n",
    "print(dataset)"
   ]
  },
  {
   "cell_type": "code",
   "execution_count": 10,
   "metadata": {},
   "outputs": [
    {
     "ename": "ModuleNotFoundError",
     "evalue": "No module named 'Python3Code'",
     "output_type": "error",
     "traceback": [
      "\u001b[1;31m---------------------------------------------------------------------------\u001b[0m",
      "\u001b[1;31mModuleNotFoundError\u001b[0m                       Traceback (most recent call last)",
      "Cell \u001b[1;32mIn[10], line 1\u001b[0m\n\u001b[1;32m----> 1\u001b[0m \u001b[39mfrom\u001b[39;00m \u001b[39mPython3Code\u001b[39;00m\u001b[39m.\u001b[39;00m\u001b[39mutil\u001b[39;00m\u001b[39m.\u001b[39;00m\u001b[39mVisualizeDataset\u001b[39;00m \u001b[39mimport\u001b[39;00m VisualizeDataset\n\u001b[0;32m      2\u001b[0m \u001b[39m# from Chapter4.FrequencyAbstraction import FourierTransformation\u001b[39;00m\n\u001b[0;32m      3\u001b[0m \n\u001b[0;32m      4\u001b[0m \u001b[39m# ft = FourierTransformation()\u001b[39;00m\n\u001b[1;32m   (...)\u001b[0m\n\u001b[0;32m      7\u001b[0m \u001b[39m# print(ft.temp_list)\u001b[39;00m\n\u001b[0;32m      8\u001b[0m \u001b[39m# print(ft.freqs)\u001b[39;00m\n",
      "\u001b[1;31mModuleNotFoundError\u001b[0m: No module named 'Python3Code'"
     ]
    }
   ],
   "source": [
    "from Python3Code.util.VisualizeDataset import VisualizeDataset\n",
    "# from Chapter4.FrequencyAbstraction import FourierTransformation\n",
    "\n",
    "# ft = FourierTransformation()\n",
    "\n",
    "# ft.find_fft_transformation(dataset)\n",
    "# print(ft.temp_list)\n",
    "# print(ft.freqs)\n",
    "\n"
   ]
  },
  {
   "cell_type": "code",
   "execution_count": null,
   "metadata": {},
   "outputs": [],
   "source": []
  }
 ],
 "metadata": {
  "kernelspec": {
   "display_name": "myenv",
   "language": "python",
   "name": "python3"
  },
  "language_info": {
   "codemirror_mode": {
    "name": "ipython",
    "version": 3
   },
   "file_extension": ".py",
   "mimetype": "text/x-python",
   "name": "python",
   "nbconvert_exporter": "python",
   "pygments_lexer": "ipython3",
   "version": "3.8.8"
  },
  "orig_nbformat": 4
 },
 "nbformat": 4,
 "nbformat_minor": 2
}

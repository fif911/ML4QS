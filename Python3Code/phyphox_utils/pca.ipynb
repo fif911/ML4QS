{
 "cells": [
  {
   "cell_type": "code",
   "execution_count": 1,
   "metadata": {
    "collapsed": true
   },
   "outputs": [],
   "source": [
    "import pandas as pd\n",
    "\n",
    "dataset = pd.read_csv(\"../phyphox-outputs/lowpass_extended_results.csv\", index_col=0,\n",
    "                      skipinitialspace=True)"
   ]
  },
  {
   "cell_type": "code",
   "execution_count": 2,
   "outputs": [],
   "source": [
    "from util.VisualizeDataset import VisualizeDataset\n",
    "\n",
    "DataViz = VisualizeDataset(\"pca\")"
   ],
   "metadata": {
    "collapsed": false
   }
  },
  {
   "cell_type": "code",
   "execution_count": null,
   "outputs": [
    {
     "name": "stdout",
     "output_type": "stream",
     "text": [
      "Figure saved to figures/pca/figure_1.png\n",
      "Figure saved to figures/pca/figure_1.pdf\n"
     ]
    }
   ],
   "source": [
    "import copy\n",
    "from Python3Code.Chapter3.DataTransformation import PrincipalComponentAnalysis\n",
    "\n",
    "# ignore_cols = ['loc_speed', 'loc_vertical_accuracy', 'loc_horizontal_accuracy']\n",
    "# ignore_cols.extend([c for c in dataset.columns if 'lin_acc' in c])  # ignore linear acceleration columns\n",
    "# selected_predictor_cols = [c for c in dataset.columns if (\n",
    "#     not ('label' in c)) and (c not in ignore_cols)]\n",
    "selected_predictor_cols = [c for c in dataset.columns if ('lin_acc' in c or 'gyr' in c)]\n",
    "\n",
    "PCA = PrincipalComponentAnalysis()\n",
    "\n",
    "pc_values = PCA.determine_pc_explained_variance(\n",
    "    dataset, selected_predictor_cols)\n",
    "\n",
    "# Plot the variance explained.\n",
    "DataViz.plot_xy(x=[range(1, len(selected_predictor_cols) + 1)], y=[pc_values],\n",
    "                xlabel='principal component number', ylabel='explained variance',\n",
    "                ylim=[0, 1], line_styles=['b-'])\n",
    "\n",
    "# We select 3 as the best number of PC's as this explains most of the variance\n",
    "n_pcs = 3\n",
    "\n",
    "dataset = PCA.apply_pca(copy.deepcopy(\n",
    "    dataset), selected_predictor_cols, n_pcs)\n",
    "\n",
    "# save to CSV\n",
    "dataset.to_csv(\"../phyphox-outputs/lowpass_extended_results_pca.csv\")\n",
    "\n",
    "# And we visualize the result of the PC's\n",
    "DataViz.plot_dataset(dataset, ['pca_', 'label_'], ['like', 'like'], ['line', 'points'])"
   ],
   "metadata": {
    "collapsed": false
   }
  }
 ],
 "metadata": {
  "kernelspec": {
   "display_name": "Python 3",
   "language": "python",
   "name": "python3"
  },
  "language_info": {
   "codemirror_mode": {
    "name": "ipython",
    "version": 2
   },
   "file_extension": ".py",
   "mimetype": "text/x-python",
   "name": "python",
   "nbconvert_exporter": "python",
   "pygments_lexer": "ipython2",
   "version": "2.7.6"
  }
 },
 "nbformat": 4,
 "nbformat_minor": 0
}

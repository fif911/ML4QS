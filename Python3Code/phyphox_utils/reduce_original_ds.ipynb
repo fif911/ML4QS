{
 "cells": [
  {
   "cell_type": "code",
   "execution_count": 28,
   "metadata": {
    "collapsed": true
   },
   "outputs": [
    {
     "name": "stdout",
     "output_type": "stream",
     "text": [
      "<class 'pandas.core.frame.DataFrame'>\n",
      "RangeIndex: 29948 entries, 0 to 29947\n",
      "Data columns (total 21 columns):\n",
      " #   Column                      Non-Null Count  Dtype  \n",
      "---  ------                      --------------  -----  \n",
      " 0   Unnamed: 0                  29948 non-null  object \n",
      " 1   acc_x                       29948 non-null  float64\n",
      " 2   acc_y                       29948 non-null  float64\n",
      " 3   acc_z                       29948 non-null  float64\n",
      " 4   label                       29948 non-null  object \n",
      " 5   gyr_x                       29945 non-null  float64\n",
      " 6   gyr_y                       29945 non-null  float64\n",
      " 7   gyr_z                       29945 non-null  float64\n",
      " 8   lin_acc_x                   29944 non-null  float64\n",
      " 9   lin_acc_y                   29944 non-null  float64\n",
      " 10  lin_acc_z                   29944 non-null  float64\n",
      " 11  loc_Latitude (°)            6298 non-null   float64\n",
      " 12  loc_Longitude (°)           6298 non-null   float64\n",
      " 13  loc_height                  6298 non-null   float64\n",
      " 14  loc_speed                   6298 non-null   float64\n",
      " 15  loc_Direction (°)           6298 non-null   float64\n",
      " 16  loc_horizontal_accuracy     6298 non-null   float64\n",
      " 17  loc_vertical_accuracy       6298 non-null   float64\n",
      " 18  mang_Magnetic field x (µT)  29941 non-null  float64\n",
      " 19  mang_Magnetic field y (µT)  29941 non-null  float64\n",
      " 20  mang_Magnetic field z (µT)  29941 non-null  float64\n",
      "dtypes: float64(19), object(2)\n",
      "memory usage: 4.8+ MB\n"
     ]
    }
   ],
   "source": [
    "import pandas as pd\n",
    "\n",
    "dataset = pd.read_csv(\"../phyphox-outputs/chapter2_result_250_labeled_aligned.csv\", skipinitialspace=True)\n",
    "dataset.info()"
   ]
  },
  {
   "cell_type": "code",
   "execution_count": 29,
   "outputs": [
    {
     "name": "stdout",
     "output_type": "stream",
     "text": [
      "<class 'pandas.core.frame.DataFrame'>\n",
      "RangeIndex: 29948 entries, 0 to 29947\n",
      "Data columns (total 6 columns):\n",
      " #   Column     Non-Null Count  Dtype  \n",
      "---  ------     --------------  -----  \n",
      " 0   time       29948 non-null  object \n",
      " 1   acc_x      29948 non-null  float64\n",
      " 2   acc_y      29948 non-null  float64\n",
      " 3   acc_z      29948 non-null  float64\n",
      " 4   loc_speed  6298 non-null   float64\n",
      " 5   label      29948 non-null  object \n",
      "dtypes: float64(4), object(2)\n",
      "memory usage: 1.4+ MB\n"
     ]
    }
   ],
   "source": [
    "# Leave only acc_x, acc_y, acc_z, speed and label\n",
    "dataset = dataset[['Unnamed: 0','acc_x', 'acc_y', 'acc_z', 'loc_speed', 'label']]\n",
    "# Rename 'Unnamed: 0 to 'time'\n",
    "dataset.rename(columns={'Unnamed: 0': 'time'}, inplace=True)\n",
    "dataset.info()"
   ],
   "metadata": {
    "collapsed": false
   }
  },
  {
   "cell_type": "code",
   "execution_count": 10,
   "outputs": [],
   "source": [
    "# save to csv\n",
    "# dataset.to_csv(\"../phyphox-outputs/chapter2_result_250_labeled_aligned_minimal.csv\", index=False)"
   ],
   "metadata": {
    "collapsed": false
   }
  },
  {
   "cell_type": "code",
   "execution_count": 30,
   "outputs": [],
   "source": [
    "from sklearn.compose import ColumnTransformer\n",
    "from sklearn.preprocessing import OneHotEncoder\n",
    "cl = ColumnTransformer(transformers=[('encoder', OneHotEncoder(), [5])])\n",
    "labels = cl.fit_transform(dataset).toarray()"
   ],
   "metadata": {
    "collapsed": false
   }
  },
  {
   "cell_type": "code",
   "execution_count": 35,
   "outputs": [
    {
     "name": "stdout",
     "output_type": "stream",
     "text": [
      "[[0. 1. 0. 0. 0.]\n",
      " [0. 1. 0. 0. 0.]\n",
      " [0. 1. 0. 0. 0.]\n",
      " ...\n",
      " [0. 1. 0. 0. 0.]\n",
      " [0. 1. 0. 0. 0.]\n",
      " [0. 1. 0. 0. 0.]]\n"
     ]
    }
   ],
   "source": [
    "# Save as dataset with labels as one-hot encoded\n",
    "print(labels)\n",
    "# add labels to dataset\n",
    "dataset['label_0'] = labels[:,0]\n",
    "dataset['label_1'] = labels[:,1]\n",
    "dataset['label_2'] = labels[:,2]\n",
    "dataset['label_3'] = labels[:,3]\n",
    "dataset['label_4'] = labels[:,4]"
   ],
   "metadata": {
    "collapsed": false
   }
  },
  {
   "cell_type": "code",
   "execution_count": 39,
   "outputs": [
    {
     "name": "stdout",
     "output_type": "stream",
     "text": [
      "<class 'pandas.core.frame.DataFrame'>\n",
      "RangeIndex: 29948 entries, 0 to 29947\n",
      "Data columns (total 11 columns):\n",
      " #   Column     Non-Null Count  Dtype  \n",
      "---  ------     --------------  -----  \n",
      " 0   time       29948 non-null  object \n",
      " 1   acc_x      29948 non-null  float64\n",
      " 2   acc_y      29948 non-null  float64\n",
      " 3   acc_z      29948 non-null  float64\n",
      " 4   loc_speed  6298 non-null   float64\n",
      " 5   label      29948 non-null  object \n",
      " 6   label_0    29948 non-null  float64\n",
      " 7   label_1    29948 non-null  float64\n",
      " 8   label_2    29948 non-null  float64\n",
      " 9   label_3    29948 non-null  float64\n",
      " 10  label_4    29948 non-null  float64\n",
      "dtypes: float64(9), object(2)\n",
      "memory usage: 2.5+ MB\n"
     ]
    }
   ],
   "source": [
    "dataset.info()"
   ],
   "metadata": {
    "collapsed": false
   }
  },
  {
   "cell_type": "code",
   "execution_count": 41,
   "outputs": [],
   "source": [
    "# save to csv\n",
    "dataset.to_csv(\"../phyphox-outputs/chapter2_result_250_labeled_aligned_minimal_onehot.csv\", index=False)"
   ],
   "metadata": {
    "collapsed": false
   }
  },
  {
   "cell_type": "code",
   "execution_count": null,
   "outputs": [],
   "source": [],
   "metadata": {
    "collapsed": false
   }
  }
 ],
 "metadata": {
  "kernelspec": {
   "display_name": "Python 3",
   "language": "python",
   "name": "python3"
  },
  "language_info": {
   "codemirror_mode": {
    "name": "ipython",
    "version": 2
   },
   "file_extension": ".py",
   "mimetype": "text/x-python",
   "name": "python",
   "nbconvert_exporter": "python",
   "pygments_lexer": "ipython2",
   "version": "2.7.6"
  }
 },
 "nbformat": 4,
 "nbformat_minor": 0
}
